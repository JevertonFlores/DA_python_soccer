{
 "cells": [
  {
   "cell_type": "code",
   "execution_count": 1,
   "id": "3c0e7021-2f63-47b3-8174-d4b3165be3c8",
   "metadata": {},
   "outputs": [],
   "source": [
    "import pandas as pd"
   ]
  },
  {
   "cell_type": "code",
   "execution_count": 6,
   "id": "20fcb771-41ce-4d67-9681-948961da45da",
   "metadata": {},
   "outputs": [],
   "source": [
    "df_fbref = pd.read_html('https://fbref.com/pt/comps/24/Serie-A-Estatisticas')"
   ]
  },
  {
   "cell_type": "code",
   "execution_count": 11,
   "id": "ec2adc0f-4f70-4ab5-9ff9-ea9b5c9ee0de",
   "metadata": {},
   "outputs": [],
   "source": [
    "df_geral_raw = df_fbref[0]"
   ]
  },
  {
   "cell_type": "code",
   "execution_count": 14,
   "id": "72e59a3f-0e5d-4075-a71e-defcbe1f23d3",
   "metadata": {},
   "outputs": [],
   "source": [
    "df_geral_raw.to_csv('C:/Users/jeverton.rosa/lab_data/DA_python_soccer/data/raw/df_geral_raw.csv')"
   ]
  },
  {
   "cell_type": "code",
   "execution_count": null,
   "id": "db94cad2-840f-47ca-beff-c6845f7130d7",
   "metadata": {},
   "outputs": [],
   "source": []
  }
 ],
 "metadata": {
  "kernelspec": {
   "display_name": "Python 3 (ipykernel)",
   "language": "python",
   "name": "python3"
  },
  "language_info": {
   "codemirror_mode": {
    "name": "ipython",
    "version": 3
   },
   "file_extension": ".py",
   "mimetype": "text/x-python",
   "name": "python",
   "nbconvert_exporter": "python",
   "pygments_lexer": "ipython3",
   "version": "3.12.0"
  }
 },
 "nbformat": 4,
 "nbformat_minor": 5
}
